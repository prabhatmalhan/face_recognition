{
 "cells": [
  {
   "cell_type": "code",
   "execution_count": 1,
   "metadata": {},
   "outputs": [],
   "source": [
    "import cv2 as cv\n",
    "from keras.models import model_from_json\n",
    "import pickle as pkl\n",
    "import json as js\n",
    "from preProcessor import get_face as gf\n",
    "import numpy as np\n",
    "import os\n"
   ]
  },
  {
   "cell_type": "code",
   "execution_count": 2,
   "metadata": {},
   "outputs": [],
   "source": [
    "\n",
    "json_file = open('..\\\\model\\\\model.json', 'r')\n",
    "loaded_model_json = json_file.read()\n",
    "json_file.close()\n",
    "loaded_model = model_from_json(loaded_model_json)\n",
    "loaded_model.load_weights(\"..\\\\model\\\\model_weights.h5\")\n"
   ]
  },
  {
   "cell_type": "code",
   "execution_count": 3,
   "metadata": {},
   "outputs": [],
   "source": [
    "try:\n",
    "    with open(os.path.join('..', 'model', 'class indices')) as f:\n",
    "        classLabel = js.load(f)\n",
    "except:\n",
    "        print(\"failed\")"
   ]
  },
  {
   "cell_type": "code",
   "execution_count": 4,
   "metadata": {},
   "outputs": [
    {
     "data": {
      "text/plain": [
       "{'0': 0,\n",
       " '1': 1,\n",
       " '10': 2,\n",
       " '11': 3,\n",
       " '2': 4,\n",
       " '3': 5,\n",
       " '4': 6,\n",
       " '5': 7,\n",
       " '6': 8,\n",
       " '7': 9,\n",
       " '8': 10,\n",
       " '9': 11}"
      ]
     },
     "execution_count": 4,
     "metadata": {},
     "output_type": "execute_result"
    }
   ],
   "source": [
    "classLabel"
   ]
  },
  {
   "cell_type": "code",
   "execution_count": 5,
   "metadata": {},
   "outputs": [
    {
     "data": {
      "text/plain": [
       "{'0': 'aviral',\n",
       " '1': 'gagan',\n",
       " '2': 'himanshu',\n",
       " '3': 'muskaan',\n",
       " '4': 'rishu',\n",
       " '5': 'shashank',\n",
       " '6': 'vijit',\n",
       " '7': 'aryan',\n",
       " '8': 'kanika',\n",
       " '9': 'rishika',\n",
       " '10': 'tanishka',\n",
       " '11': 'riya'}"
      ]
     },
     "execution_count": 5,
     "metadata": {},
     "output_type": "execute_result"
    }
   ],
   "source": [
    "\n",
    "classLabel = {str(value): key for key, value in classLabel.items()}\n",
    "\n",
    "with open(os.path.join(\"..\",\"config.json\"), 'r') as f:\n",
    "    p = js.load(f)\n",
    "\n",
    "p"
   ]
  },
  {
   "cell_type": "code",
   "execution_count": 17,
   "metadata": {},
   "outputs": [
    {
     "name": "stdout",
     "output_type": "stream",
     "text": [
      "rishika_test.mp4 : {'rishika': 188, 'gagan': 6, 'riya': 1}\n",
      "tanishka_test.mp4 : {'tanishka': 137}\n"
     ]
    }
   ],
   "source": [
    "root = os.path.join(\".\",\"video_test\")\n",
    "for i in os.listdir(root):\n",
    "    video = cv.VideoCapture(os.path.join(root,i))\n",
    "    x={}\n",
    "\n",
    "    while True:\n",
    "\n",
    "        success, frame = video.read()\n",
    "        if not success:\n",
    "            break\n",
    "        else:\n",
    "            _,face=gf(frame)\n",
    "            if _:\n",
    "                face=face.reshape((1,100,100,3))\n",
    "                face = face/255\n",
    "                pred = np.round(loaded_model.predict(face))\n",
    "                ind = np.where(pred[0] == 1.)\n",
    "                if(len(ind[0])) > 0:\n",
    "                    pred = p[classLabel[str(ind[0][0])]]\n",
    "                try:\n",
    "                    x[pred]+=1\n",
    "                except:\n",
    "                    x[pred]=1\n",
    "        \n",
    "    print(i,':',x)"
   ]
  },
  {
   "cell_type": "code",
   "execution_count": 10,
   "metadata": {},
   "outputs": [
    {
     "name": "stdout",
     "output_type": "stream",
     "text": [
      "kanika_test.jpg : kanika\n",
      "shashank_test.jpg : shashank\n",
      "vijit_test.jpg : vijit\n"
     ]
    }
   ],
   "source": [
    "root = os.path.join(\".\", \"image_test\")\n",
    "for i in os.listdir(root):\n",
    "    frame = cv.imread(os.path.join(root,i))\n",
    "    _,face=gf(frame)\n",
    "    if _:\n",
    "        face=face.reshape((1,100,100,3))\n",
    "        face = face/255\n",
    "        pred = np.round(loaded_model.predict(face))\n",
    "        ind = np.where(pred[0] == 1.)\n",
    "        if(len(ind[0])) > 0:\n",
    "            pred = p[classLabel[str(ind[0][0])]]\n",
    "        print(i,':',pred)"
   ]
  }
 ],
 "metadata": {
  "interpreter": {
   "hash": "3353c53905a6873bb0e472468a83d32c03f7b0e681442e70a1d9121515f8d145"
  },
  "kernelspec": {
   "display_name": "Python 3.9.11 ('tensor')",
   "language": "python",
   "name": "python3"
  },
  "language_info": {
   "codemirror_mode": {
    "name": "ipython",
    "version": 3
   },
   "file_extension": ".py",
   "mimetype": "text/x-python",
   "name": "python",
   "nbconvert_exporter": "python",
   "pygments_lexer": "ipython3",
   "version": "3.9.11"
  },
  "orig_nbformat": 4
 },
 "nbformat": 4,
 "nbformat_minor": 2
}
