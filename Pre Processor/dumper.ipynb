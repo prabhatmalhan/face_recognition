{
 "cells": [
  {
   "cell_type": "code",
   "execution_count": 1,
   "metadata": {},
   "outputs": [],
   "source": [
    "from preProcessor import get_face\n",
    "import os\n",
    "import random\n",
    "import cv2 as cv\n",
    "from tqdm import tqdm"
   ]
  },
  {
   "cell_type": "code",
   "execution_count": 2,
   "metadata": {},
   "outputs": [],
   "source": [
    "dataset_path=os.path.join(\"..\",\"dataset\")\n",
    "os.mkdir(dataset_path)\n",
    "dataset_train_path = os.path.join(\"..\",\"dataset\",\"train\")\n",
    "os.mkdir(dataset_train_path)\n",
    "dataset_test_path = os.path.join(\"..\",\"dataset\",\"test\")\n",
    "os.mkdir(dataset_test_path)\n",
    "for i in os.listdir(os.path.join(\"..\",\"Resources\")):\n",
    "    os.mkdir(os.path.join(dataset_train_path,i))\n",
    "    os.mkdir(os.path.join(dataset_test_path,i))"
   ]
  },
  {
   "cell_type": "code",
   "execution_count": 3,
   "metadata": {},
   "outputs": [],
   "source": [
    "resources_path = os.path.join(\"..\",\"Resources\")\n",
    "dataset_path = os.path.join(\"..\",\"dataset\")"
   ]
  },
  {
   "cell_type": "code",
   "execution_count": 4,
   "metadata": {},
   "outputs": [
    {
     "name": "stderr",
     "output_type": "stream",
     "text": [
      "Files Progress --> 0: 100%|██████████| 1000/1000 [00:41<00:00, 23.94it/s]\n",
      "Files Progress --> 1: 100%|██████████| 1000/1000 [00:47<00:00, 21.06it/s]\n",
      "Files Progress --> 10: 100%|██████████| 1000/1000 [00:38<00:00, 25.72it/s]\n",
      "Files Progress --> 11: 100%|██████████| 1000/1000 [00:40<00:00, 24.48it/s]\n",
      "Files Progress --> 12: 100%|██████████| 1000/1000 [00:40<00:00, 24.48it/s]\n",
      "Files Progress --> 2: 100%|██████████| 1000/1000 [00:55<00:00, 17.89it/s]\n",
      "Files Progress --> 3: 100%|██████████| 1000/1000 [00:43<00:00, 23.21it/s]\n",
      "Files Progress --> 4: 100%|██████████| 1000/1000 [00:48<00:00, 20.46it/s]\n",
      "Files Progress --> 5: 100%|██████████| 1000/1000 [00:43<00:00, 23.18it/s]\n",
      "Files Progress --> 6: 100%|██████████| 1000/1000 [00:45<00:00, 22.15it/s]\n",
      "Files Progress --> 7: 100%|██████████| 1000/1000 [00:46<00:00, 21.41it/s]\n",
      "Files Progress --> 8: 100%|██████████| 1000/1000 [00:45<00:00, 22.16it/s]\n",
      "Files Progress --> 9: 100%|██████████| 1000/1000 [00:43<00:00, 23.00it/s]\n",
      "Folders Progress: 100%|██████████| 12/12 [09:00<00:00, 45.04s/it]\n"
     ]
    }
   ],
   "source": [
    "\n",
    "for folder in tqdm(os.listdir(resources_path), desc = 'Folders Progress'):\n",
    "    folder_path = os.path.join(resources_path, folder)\n",
    "    files = os.listdir(folder_path)\n",
    "    random.shuffle(files)\n",
    "    n = len(files)\n",
    "\n",
    "    # Change value to x to change dataset size\n",
    "    x = .2\n",
    "\n",
    "    train_size=round((1-x)*n)\n",
    "\n",
    "    i=0\n",
    "    flag=True\n",
    "    for img in tqdm(files, desc = 'Files Progress --> '+str(folder)):\n",
    "        img_path = os.path.join(folder_path,img)\n",
    "        haveFace,face_img=get_face(img_path)\n",
    "        if haveFace:\n",
    "            if flag:\n",
    "                cv.imwrite(os.path.join(dataset_path,\"train\",folder,str(i)+'.jpg'),face_img)\n",
    "            else:\n",
    "                cv.imwrite(os.path.join(dataset_path, \"test\",folder, str(i)+'.jpg'), face_img)\n",
    "            i+=1\n",
    "            if i==train_size:\n",
    "                i=0\n",
    "                flag=False"
   ]
  }
 ],
 "metadata": {
  "interpreter": {
   "hash": "3353c53905a6873bb0e472468a83d32c03f7b0e681442e70a1d9121515f8d145"
  },
  "kernelspec": {
   "display_name": "Python 3.9.11 ('tensor')",
   "language": "python",
   "name": "python3"
  },
  "language_info": {
   "codemirror_mode": {
    "name": "ipython",
    "version": 3
   },
   "file_extension": ".py",
   "mimetype": "text/x-python",
   "name": "python",
   "nbconvert_exporter": "python",
   "pygments_lexer": "ipython3",
   "version": "3.9.11"
  },
  "orig_nbformat": 4
 },
 "nbformat": 4,
 "nbformat_minor": 2
}
