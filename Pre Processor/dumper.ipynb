{
 "cells": [
  {
   "cell_type": "code",
   "execution_count": 1,
   "metadata": {},
   "outputs": [],
   "source": [
    "from preProcessor import get_face\n",
    "import os\n",
    "import random\n",
    "import cv2 as cv\n",
    "from tqdm import tqdm"
   ]
  },
  {
   "cell_type": "code",
   "execution_count": 2,
   "metadata": {},
   "outputs": [],
   "source": [
    "dataset_path=os.path.join(\"..\",\"dataset\")\n",
    "os.mkdir(dataset_path)\n",
    "dataset_train_path = os.path.join(\"..\",\"dataset\",\"train\")\n",
    "os.mkdir(dataset_train_path)\n",
    "dataset_test_path = os.path.join(\"..\",\"dataset\",\"test\")\n",
    "os.mkdir(dataset_test_path)\n",
    "for i in os.listdir(os.path.join(\"..\",\"Resources\")):\n",
    "    os.mkdir(os.path.join(dataset_train_path,i))\n",
    "    os.mkdir(os.path.join(dataset_test_path,i))"
   ]
  },
  {
   "cell_type": "code",
   "execution_count": 3,
   "metadata": {},
   "outputs": [],
   "source": [
    "resources_path = os.path.join(\"..\",\"Resources\")\n",
    "dataset_path = os.path.join(\"..\",\"dataset\")"
   ]
  },
  {
   "cell_type": "code",
   "execution_count": 4,
   "metadata": {},
   "outputs": [
    {
     "name": "stderr",
     "output_type": "stream",
     "text": [
      "Files Progress --> 0: 100%|██████████| 1000/1000 [01:10<00:00, 14.12it/s]\n",
      "Files Progress --> 1: 100%|██████████| 1000/1000 [00:51<00:00, 19.26it/s]\n",
      "Files Progress --> 10: 100%|██████████| 1000/1000 [00:43<00:00, 23.13it/s]\n",
      "Files Progress --> 11: 100%|██████████| 1000/1000 [00:46<00:00, 21.53it/s]\n",
      "Files Progress --> 2:  45%|████▌     | 450/1000 [00:27<00:33, 16.53it/s]\n",
      "Folders Progress:  33%|███▎      | 4/12 [03:59<07:59, 59.92s/it]\n"
     ]
    },
    {
     "ename": "KeyboardInterrupt",
     "evalue": "",
     "output_type": "error",
     "traceback": [
      "\u001b[1;31m---------------------------------------------------------------------------\u001b[0m",
      "\u001b[1;31mKeyboardInterrupt\u001b[0m                         Traceback (most recent call last)",
      "\u001b[1;32md:\\Miniproject\\face_recognition\\Pre Processor\\dumper.ipynb Cell 4'\u001b[0m in \u001b[0;36m<cell line: 1>\u001b[1;34m()\u001b[0m\n\u001b[0;32m     <a href='vscode-notebook-cell:/d%3A/Miniproject/face_recognition/Pre%20Processor/dumper.ipynb#ch0000003?line=13'>14</a>\u001b[0m \u001b[39mfor\u001b[39;00m img \u001b[39min\u001b[39;00m tqdm(files, desc \u001b[39m=\u001b[39m \u001b[39m'\u001b[39m\u001b[39mFiles Progress --> \u001b[39m\u001b[39m'\u001b[39m\u001b[39m+\u001b[39m\u001b[39mstr\u001b[39m(folder)):\n\u001b[0;32m     <a href='vscode-notebook-cell:/d%3A/Miniproject/face_recognition/Pre%20Processor/dumper.ipynb#ch0000003?line=14'>15</a>\u001b[0m     img_path \u001b[39m=\u001b[39m os\u001b[39m.\u001b[39mpath\u001b[39m.\u001b[39mjoin(folder_path,img)\n\u001b[1;32m---> <a href='vscode-notebook-cell:/d%3A/Miniproject/face_recognition/Pre%20Processor/dumper.ipynb#ch0000003?line=15'>16</a>\u001b[0m     haveFace,face_img\u001b[39m=\u001b[39mget_face(img_path)\n\u001b[0;32m     <a href='vscode-notebook-cell:/d%3A/Miniproject/face_recognition/Pre%20Processor/dumper.ipynb#ch0000003?line=16'>17</a>\u001b[0m     \u001b[39mif\u001b[39;00m haveFace:\n\u001b[0;32m     <a href='vscode-notebook-cell:/d%3A/Miniproject/face_recognition/Pre%20Processor/dumper.ipynb#ch0000003?line=17'>18</a>\u001b[0m         \u001b[39mif\u001b[39;00m flag:\n",
      "File \u001b[1;32md:\\Miniproject\\face_recognition\\Pre Processor\\preProcessor.py:9\u001b[0m, in \u001b[0;36mget_face\u001b[1;34m(image)\u001b[0m\n\u001b[0;32m      <a href='file:///d%3A/Miniproject/face_recognition/Pre%20Processor/preProcessor.py?line=4'>5</a>\u001b[0m \u001b[39mdef\u001b[39;00m \u001b[39mget_face\u001b[39m(image: Str):\n\u001b[0;32m      <a href='file:///d%3A/Miniproject/face_recognition/Pre%20Processor/preProcessor.py?line=5'>6</a>\u001b[0m     face_cascade \u001b[39m=\u001b[39m cv2\u001b[39m.\u001b[39mCascadeClassifier(\n\u001b[0;32m      <a href='file:///d%3A/Miniproject/face_recognition/Pre%20Processor/preProcessor.py?line=6'>7</a>\u001b[0m         cv2\u001b[39m.\u001b[39mdata\u001b[39m.\u001b[39mhaarcascades\u001b[39m+\u001b[39m\u001b[39m'\u001b[39m\u001b[39mhaarcascade_frontalface_default.xml\u001b[39m\u001b[39m'\u001b[39m)\n\u001b[1;32m----> <a href='file:///d%3A/Miniproject/face_recognition/Pre%20Processor/preProcessor.py?line=8'>9</a>\u001b[0m     img \u001b[39m=\u001b[39m cv2\u001b[39m.\u001b[39;49mimread(image)\n\u001b[0;32m     <a href='file:///d%3A/Miniproject/face_recognition/Pre%20Processor/preProcessor.py?line=9'>10</a>\u001b[0m     img \u001b[39m=\u001b[39m cv2\u001b[39m.\u001b[39mresize(img, (\u001b[39m352\u001b[39m, \u001b[39m640\u001b[39m))\n\u001b[0;32m     <a href='file:///d%3A/Miniproject/face_recognition/Pre%20Processor/preProcessor.py?line=10'>11</a>\u001b[0m     gray \u001b[39m=\u001b[39m cv2\u001b[39m.\u001b[39mcvtColor(img, cv2\u001b[39m.\u001b[39mCOLOR_BGR2GRAY)\n",
      "\u001b[1;31mKeyboardInterrupt\u001b[0m: "
     ]
    }
   ],
   "source": [
    "\n",
    "for folder in tqdm(os.listdir(resources_path), desc = 'Folders Progress'):\n",
    "    folder_path = os.path.join(resources_path, folder)\n",
    "    files = os.listdir(folder_path)\n",
    "    random.shuffle(files)\n",
    "    n = len(files)\n",
    "\n",
    "    # Change value to x to change dataset size\n",
    "    x = .2\n",
    "\n",
    "    train_size=round((1-x)*n)\n",
    "\n",
    "    i=0\n",
    "    flag=True\n",
    "    for img in tqdm(files, desc = 'Files Progress --> '+str(folder)):\n",
    "        img_path = os.path.join(folder_path,img)\n",
    "        haveFace,face_img=get_face(img_path)\n",
    "        if haveFace:\n",
    "            if flag:\n",
    "                cv.imwrite(os.path.join(dataset_path,\"train\",folder,str(i)+'.jpg'),face_img)\n",
    "            else:\n",
    "                cv.imwrite(os.path.join(dataset_path, \"test\",folder, str(i)+'.jpg'), face_img)\n",
    "            i+=1\n",
    "            if i==train_size:\n",
    "                i=0\n",
    "                flag=False"
   ]
  },
  {
   "cell_type": "code",
   "execution_count": null,
   "metadata": {},
   "outputs": [],
   "source": [
    "f=round(.2*1024)\n",
    "f"
   ]
  },
  {
   "cell_type": "code",
   "execution_count": null,
   "metadata": {},
   "outputs": [],
   "source": []
  },
  {
   "cell_type": "code",
   "execution_count": null,
   "metadata": {},
   "outputs": [],
   "source": []
  }
 ],
 "metadata": {
  "interpreter": {
   "hash": "3353c53905a6873bb0e472468a83d32c03f7b0e681442e70a1d9121515f8d145"
  },
  "kernelspec": {
   "display_name": "Python 3.9.11 ('tensor')",
   "language": "python",
   "name": "python3"
  },
  "language_info": {
   "codemirror_mode": {
    "name": "ipython",
    "version": 3
   },
   "file_extension": ".py",
   "mimetype": "text/x-python",
   "name": "python",
   "nbconvert_exporter": "python",
   "pygments_lexer": "ipython3",
   "version": "3.9.11"
  },
  "orig_nbformat": 4
 },
 "nbformat": 4,
 "nbformat_minor": 2
}
